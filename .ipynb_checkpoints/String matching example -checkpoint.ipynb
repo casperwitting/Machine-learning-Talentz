{
 "cells": [
  {
   "cell_type": "code",
   "execution_count": 47,
   "metadata": {},
   "outputs": [],
   "source": [
    "import pandas as pd\n",
    "from fuzzywuzzy import fuzz"
   ]
  },
  {
   "cell_type": "code",
   "execution_count": 48,
   "metadata": {},
   "outputs": [],
   "source": [
    "def findMatch(name, list_names, min_score=0):\n",
    "    # -1 score incase we don't get any matches\n",
    "    max_score = -1\n",
    "    # Returning empty name for no match as well\n",
    "    max_name = \"\"\n",
    "    # Iternating over all names in the other\n",
    "    for name2 in list_names:\n",
    "        #Finding fuzzy match score\n",
    "        score = fuzz.ratio(name, name2)\n",
    "        # Checking if we are above our threshold and have a better score\n",
    "        if (score > min_score) & (score > max_score):\n",
    "            max_name = name2\n",
    "            max_score = score\n",
    "    return (max_name, max_score)"
   ]
  },
  {
   "cell_type": "code",
   "execution_count": 49,
   "metadata": {},
   "outputs": [
    {
     "data": {
      "text/html": [
       "<div>\n",
       "<style scoped>\n",
       "    .dataframe tbody tr th:only-of-type {\n",
       "        vertical-align: middle;\n",
       "    }\n",
       "\n",
       "    .dataframe tbody tr th {\n",
       "        vertical-align: top;\n",
       "    }\n",
       "\n",
       "    .dataframe thead th {\n",
       "        text-align: right;\n",
       "    }\n",
       "</style>\n",
       "<table border=\"1\" class=\"dataframe\">\n",
       "  <thead>\n",
       "    <tr style=\"text-align: right;\">\n",
       "      <th></th>\n",
       "      <th>Correct name</th>\n",
       "      <th>Matched name</th>\n",
       "      <th>Similarity score</th>\n",
       "    </tr>\n",
       "  </thead>\n",
       "  <tbody>\n",
       "    <tr>\n",
       "      <th>0</th>\n",
       "      <td>Creativiteit</td>\n",
       "      <td>Creativiteit</td>\n",
       "      <td>100</td>\n",
       "    </tr>\n",
       "    <tr>\n",
       "      <th>1</th>\n",
       "      <td>Gericht werken</td>\n",
       "      <td>Gericht weken</td>\n",
       "      <td>96</td>\n",
       "    </tr>\n",
       "    <tr>\n",
       "      <th>2</th>\n",
       "      <td>Gemotiveerd</td>\n",
       "      <td>Gemotiveert</td>\n",
       "      <td>91</td>\n",
       "    </tr>\n",
       "    <tr>\n",
       "      <th>3</th>\n",
       "      <td>Nauwkeurigheid</td>\n",
       "      <td>Nauwkeurig</td>\n",
       "      <td>83</td>\n",
       "    </tr>\n",
       "    <tr>\n",
       "      <th>4</th>\n",
       "      <td>React JS</td>\n",
       "      <td>ReactJS</td>\n",
       "      <td>93</td>\n",
       "    </tr>\n",
       "    <tr>\n",
       "      <th>5</th>\n",
       "      <td>Teamwork</td>\n",
       "      <td>Team-work</td>\n",
       "      <td>94</td>\n",
       "    </tr>\n",
       "  </tbody>\n",
       "</table>\n",
       "</div>"
      ],
      "text/plain": [
       "     Correct name   Matched name  Similarity score\n",
       "0    Creativiteit   Creativiteit               100\n",
       "1  Gericht werken  Gericht weken                96\n",
       "2     Gemotiveerd    Gemotiveert                91\n",
       "3  Nauwkeurigheid     Nauwkeurig                83\n",
       "4        React JS        ReactJS                93\n",
       "5        Teamwork      Team-work                94"
      ]
     },
     "execution_count": 49,
     "metadata": {},
     "output_type": "execute_result"
    }
   ],
   "source": [
    "correctlyNamedSkills = ['Teamwork', 'Creativiteit', 'Gericht werken', 'Gemotiveerd', 'Nauwkeurigheid', 'React JS']\n",
    "poorlyNamedSkills = ['Creativiteit', 'Gericht weken', 'Gemotiveert', 'Nauwkeurig', 'ReactJS', 'Team-work']\n",
    "\n",
    "dict_list = []\n",
    "match_threshold = 75\n",
    "\n",
    "for skill in poorlyNamedSkills:\n",
    "    match = findMatch(skill, correctlyNamedSkills, match_threshold)\n",
    "    \n",
    "    # New dict for storing data\n",
    "    dict_ = {}\n",
    "    dict_.update({\"Matched name\" : skill})\n",
    "    dict_.update({\"Correct name\" : match[0]})\n",
    "    dict_.update({\"Similarity score\" : match[1]})\n",
    "    dict_list.append(dict_)\n",
    "    \n",
    "merge_table = pd.DataFrame(dict_list)\n",
    "# Display results\n",
    "merge_table"
   ]
  }
 ],
 "metadata": {
  "kernelspec": {
   "display_name": "Python 3",
   "language": "python",
   "name": "python3"
  },
  "language_info": {
   "codemirror_mode": {
    "name": "ipython",
    "version": 3
   },
   "file_extension": ".py",
   "mimetype": "text/x-python",
   "name": "python",
   "nbconvert_exporter": "python",
   "pygments_lexer": "ipython3",
   "version": "3.7.3"
  }
 },
 "nbformat": 4,
 "nbformat_minor": 2
}
