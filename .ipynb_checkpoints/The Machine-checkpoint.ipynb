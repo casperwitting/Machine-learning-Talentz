{
 "cells": [
  {
   "cell_type": "code",
   "execution_count": 40,
   "metadata": {},
   "outputs": [],
   "source": [
    "import numpy as np\n",
    "import matplotlib.pyplot as plt\n",
    "import pandas as pd\n",
    "import mglearn \n",
    "from IPython.display import display\n",
    "from sklearn.datasets import make_blobs\n",
    "import seaborn"
   ]
  },
  {
   "cell_type": "code",
   "execution_count": 78,
   "metadata": {},
   "outputs": [
    {
     "data": {
      "text/html": [
       "<div>\n",
       "<style scoped>\n",
       "    .dataframe tbody tr th:only-of-type {\n",
       "        vertical-align: middle;\n",
       "    }\n",
       "\n",
       "    .dataframe tbody tr th {\n",
       "        vertical-align: top;\n",
       "    }\n",
       "\n",
       "    .dataframe thead th {\n",
       "        text-align: right;\n",
       "    }\n",
       "</style>\n",
       "<table border=\"1\" class=\"dataframe\">\n",
       "  <thead>\n",
       "    <tr style=\"text-align: right;\">\n",
       "      <th></th>\n",
       "      <th>amount_of_employees</th>\n",
       "      <th>company</th>\n",
       "      <th>description</th>\n",
       "      <th>education_level</th>\n",
       "      <th>field_of_study</th>\n",
       "      <th>price</th>\n",
       "      <th>publication_date</th>\n",
       "      <th>skill</th>\n",
       "      <th>slug</th>\n",
       "      <th>summary</th>\n",
       "      <th>title</th>\n",
       "      <th>type</th>\n",
       "      <th>uuid</th>\n",
       "    </tr>\n",
       "  </thead>\n",
       "  <tbody>\n",
       "    <tr>\n",
       "      <th>0</th>\n",
       "      <td>250+ medewerkers</td>\n",
       "      <td>van der Heyden</td>\n",
       "      <td>&lt;p&gt;Kees in een stadje, waar ze over 't pleintj...</td>\n",
       "      <td>HBO/WO</td>\n",
       "      <td>Bouw en infra</td>\n",
       "      <td>153</td>\n",
       "      <td>2018-12-20T17:59:56.570766Z</td>\n",
       "      <td>Teamwork</td>\n",
       "      <td>van-der-heyden-excepturi-sed-et-unde</td>\n",
       "      <td>Iusto aliquid et est ad. Earum voluptatem sunt...</td>\n",
       "      <td>Excepturi sed et unde.</td>\n",
       "      <td>internship</td>\n",
       "      <td>f44a22bd-70f5-435e-bb73-6cebefa2c771</td>\n",
       "    </tr>\n",
       "    <tr>\n",
       "      <th>1</th>\n",
       "      <td>50 - 250 medewerkers</td>\n",
       "      <td>Kolen</td>\n",
       "      <td>&lt;p&gt;Johannes Bavink, 2de Jan Steenstraat, numme...</td>\n",
       "      <td>MBO</td>\n",
       "      <td>Techniek en procesindustrie</td>\n",
       "      <td>153</td>\n",
       "      <td>2019-03-17T17:59:56.580702Z</td>\n",
       "      <td>Photoshop</td>\n",
       "      <td>kolen-voluptatem-libero-earum-et-minus-esse</td>\n",
       "      <td>Deserunt eum et rem aut. Sapiente exercitation...</td>\n",
       "      <td>Voluptatem libero earum et minus esse.</td>\n",
       "      <td>internship</td>\n",
       "      <td>4e1deca4-ea08-4ffa-85e7-7fa1bd27ced4</td>\n",
       "    </tr>\n",
       "    <tr>\n",
       "      <th>2</th>\n",
       "      <td>50 - 250 medewerkers</td>\n",
       "      <td>Kolen</td>\n",
       "      <td>&lt;p&gt;Bobi, maak voort, wacht, zal ik je helpen?\"...</td>\n",
       "      <td>MBO</td>\n",
       "      <td>Productie, bouw &amp; ambachten</td>\n",
       "      <td>153</td>\n",
       "      <td>2018-11-28T17:59:56.583732Z</td>\n",
       "      <td>Nieuwschierig</td>\n",
       "      <td>kolen-aut-aut-accusamus-cupiditate-consequuntu...</td>\n",
       "      <td>Modi placeat dolorem quia tenetur assumenda si...</td>\n",
       "      <td>Aut aut accusamus cupiditate consequuntur ut.</td>\n",
       "      <td>internship</td>\n",
       "      <td>5de25731-15c5-404b-9ad8-d37e254bc98c</td>\n",
       "    </tr>\n",
       "    <tr>\n",
       "      <th>3</th>\n",
       "      <td>250+ medewerkers</td>\n",
       "      <td>van der Velden CV</td>\n",
       "      <td>&lt;p&gt;Kort na het bezoek van Bavink terug; hij wi...</td>\n",
       "      <td>HBO/WO</td>\n",
       "      <td>Marketing, reclame &amp; communicatie</td>\n",
       "      <td>153</td>\n",
       "      <td>2018-11-12T17:59:56.586640Z</td>\n",
       "      <td>Ruby</td>\n",
       "      <td>van-der-velden-cv-error-optio-reprehenderit-fu...</td>\n",
       "      <td>Eum repellat consequuntur ab consequatur volup...</td>\n",
       "      <td>Error optio reprehenderit fugiat maiores dolor...</td>\n",
       "      <td>internship</td>\n",
       "      <td>4f231484-d0c9-45bd-8671-ae9d8dd032a5</td>\n",
       "    </tr>\n",
       "    <tr>\n",
       "      <th>4</th>\n",
       "      <td>10 - 50 medewerkers</td>\n",
       "      <td>Gerritsen van Es IBC</td>\n",
       "      <td>&lt;p&gt;Was acht uur. 'k Legde m'n klokje op tafel ...</td>\n",
       "      <td>HBO/WO</td>\n",
       "      <td>Economie</td>\n",
       "      <td>153</td>\n",
       "      <td>2018-07-09T17:59:56.589661Z</td>\n",
       "      <td>Kubernetes</td>\n",
       "      <td>gerritsen-van-es-ibc-aut-dolorem-magni-non-in</td>\n",
       "      <td>Qui similique ea libero magnam dolorem modi et...</td>\n",
       "      <td>Aut dolorem magni non in.</td>\n",
       "      <td>internship</td>\n",
       "      <td>937e5cf3-2202-4bf6-8a4c-70da832277ec</td>\n",
       "    </tr>\n",
       "  </tbody>\n",
       "</table>\n",
       "</div>"
      ],
      "text/plain": [
       "    amount_of_employees               company  \\\n",
       "0      250+ medewerkers        van der Heyden   \n",
       "1  50 - 250 medewerkers                 Kolen   \n",
       "2  50 - 250 medewerkers                 Kolen   \n",
       "3      250+ medewerkers     van der Velden CV   \n",
       "4   10 - 50 medewerkers  Gerritsen van Es IBC   \n",
       "\n",
       "                                         description education_level  \\\n",
       "0  <p>Kees in een stadje, waar ze over 't pleintj...          HBO/WO   \n",
       "1  <p>Johannes Bavink, 2de Jan Steenstraat, numme...             MBO   \n",
       "2  <p>Bobi, maak voort, wacht, zal ik je helpen?\"...             MBO   \n",
       "3  <p>Kort na het bezoek van Bavink terug; hij wi...          HBO/WO   \n",
       "4  <p>Was acht uur. 'k Legde m'n klokje op tafel ...          HBO/WO   \n",
       "\n",
       "                      field_of_study  price             publication_date  \\\n",
       "0                      Bouw en infra    153  2018-12-20T17:59:56.570766Z   \n",
       "1        Techniek en procesindustrie    153  2019-03-17T17:59:56.580702Z   \n",
       "2        Productie, bouw & ambachten    153  2018-11-28T17:59:56.583732Z   \n",
       "3  Marketing, reclame & communicatie    153  2018-11-12T17:59:56.586640Z   \n",
       "4                           Economie    153  2018-07-09T17:59:56.589661Z   \n",
       "\n",
       "           skill                                               slug  \\\n",
       "0       Teamwork               van-der-heyden-excepturi-sed-et-unde   \n",
       "1      Photoshop        kolen-voluptatem-libero-earum-et-minus-esse   \n",
       "2  Nieuwschierig  kolen-aut-aut-accusamus-cupiditate-consequuntu...   \n",
       "3           Ruby  van-der-velden-cv-error-optio-reprehenderit-fu...   \n",
       "4     Kubernetes      gerritsen-van-es-ibc-aut-dolorem-magni-non-in   \n",
       "\n",
       "                                             summary  \\\n",
       "0  Iusto aliquid et est ad. Earum voluptatem sunt...   \n",
       "1  Deserunt eum et rem aut. Sapiente exercitation...   \n",
       "2  Modi placeat dolorem quia tenetur assumenda si...   \n",
       "3  Eum repellat consequuntur ab consequatur volup...   \n",
       "4  Qui similique ea libero magnam dolorem modi et...   \n",
       "\n",
       "                                               title        type  \\\n",
       "0                             Excepturi sed et unde.  internship   \n",
       "1             Voluptatem libero earum et minus esse.  internship   \n",
       "2      Aut aut accusamus cupiditate consequuntur ut.  internship   \n",
       "3  Error optio reprehenderit fugiat maiores dolor...  internship   \n",
       "4                          Aut dolorem magni non in.  internship   \n",
       "\n",
       "                                   uuid  \n",
       "0  f44a22bd-70f5-435e-bb73-6cebefa2c771  \n",
       "1  4e1deca4-ea08-4ffa-85e7-7fa1bd27ced4  \n",
       "2  5de25731-15c5-404b-9ad8-d37e254bc98c  \n",
       "3  4f231484-d0c9-45bd-8671-ae9d8dd032a5  \n",
       "4  937e5cf3-2202-4bf6-8a4c-70da832277ec  "
      ]
     },
     "execution_count": 78,
     "metadata": {},
     "output_type": "execute_result"
    }
   ],
   "source": [
    "vacancies = pd.read_json('ml_vacancies.json')\n",
    "vacancies.head(5)"
   ]
  },
  {
   "cell_type": "code",
   "execution_count": 87,
   "metadata": {},
   "outputs": [
    {
     "name": "stdout",
     "output_type": "stream",
     "text": [
      "Totaal aantal unieke bedrijven: 6\n",
      "Top 10 bedrijven met de meeste vacatures: \n",
      "\n",
      "                 company  field_of_study\n",
      "0  Gerritsen van Es IBC              22\n",
      "2           van Ginneke              19\n",
      "4        van der Heyden              18\n",
      "1                 Kolen              16\n",
      "5     van der Velden CV              14\n",
      "3          van den Berg              12\n"
     ]
    },
    {
     "data": {
      "text/plain": [
       "Text(0, 0.5, '# AANTAL VACATURES')"
      ]
     },
     "execution_count": 87,
     "metadata": {},
     "output_type": "execute_result"
    },
    {
     "data": {
      "image/png": "[encoded data removed]",
      "text/plain": [
       "<Figure size 720x432 with 1 Axes>"
      ]
     },
     "metadata": {},
     "output_type": "display_data"
    }
   ],
   "source": [
    "#PART 1, Data Analysis\n",
    "#Now, we are finding total number of compnaies who require data scientist\n",
    "total_no_company=vacancies['company'].nunique()\n",
    "print('Totaal aantal unieke bedrijven:',total_no_company)\n",
    "\n",
    "#finding highest number of vacancy in a company\n",
    "most_vacancy= vacancies.groupby(['company'])['field_of_study'].count()\n",
    "most_vacancy=most_vacancy.reset_index(name='field_of_study')\n",
    "most_vacancy=most_vacancy.sort_values(['field_of_study'],ascending=False)\n",
    "pareto_df=most_vacancy\n",
    "most_vacancy=most_vacancy.head(10)\n",
    "print(\"Top 10 bedrijven met de meeste vacatures: \\n\\n\",most_vacancy)\n",
    "\n",
    "# Plot graph for top most vacancy\n",
    "fig, ax = plt.subplots(figsize = (10,6))\n",
    "ax=seaborn.barplot(x=\"company\", y=\"field_of_study\", data=most_vacancy)    \n",
    "ax.set_xticklabels(most_vacancy['company'],rotation=90)  \n",
    "ax.set_xlabel('BEDRIJVEN MET DE MEESTE VACATURES',fontsize=16, color='red')\n",
    "ax.set_ylabel('# AANTAL VACATURES',fontsize=16,color='red') "
   ]
  },
  {
   "cell_type": "code",
   "execution_count": 88,
   "metadata": {},
   "outputs": [
    {
     "name": "stdout",
     "output_type": "stream",
     "text": [
      "Populairste studiegebied: \n",
      " 0    Ambacht, laboratorium en gezondheidstechniek\n",
      "dtype: object\n"
     ]
    }
   ],
   "source": [
    "most_populair_field = vacancies['field_of_study'].mode()\n",
    "print('Populairste studiegebied: \\n', most_populair_field)"
   ]
  },
  {
   "cell_type": "code",
   "execution_count": 70,
   "metadata": {},
   "outputs": [
    {
     "data": {
      "text/plain": [
       "array([<matplotlib.axes._subplots.AxesSubplot object at 0x1294b0fd0>],\n",
       "      dtype=object)"
      ]
     },
     "execution_count": 70,
     "metadata": {},
     "output_type": "execute_result"
    },
    {
     "data": {
      "image/png": "[encoded data removed]",
      "text/plain": [
       "<Figure size 576x576 with 1 Axes>"
      ]
     },
     "metadata": {},
     "output_type": "display_data"
    }
   ],
   "source": [
    "vacancies_by_education_level = vacancies.groupby(['education_level'])['uuid'].count()\n",
    "\n",
    "# --- dataset 1: just 4 values for 4 groups:\n",
    "df = pd.DataFrame(vacancies_by_education_level.values, index=vacancies_by_education_level.keys(), columns=['Verdeling onderwijsniveau'])\n",
    " \n",
    "# make the plot\n",
    "df.plot(kind='pie', subplots=True, figsize=(8, 8))"
   ]
  },
  {
   "cell_type": "code",
   "execution_count": 84,
   "metadata": {},
   "outputs": [
    {
     "name": "stdout",
     "output_type": "stream",
     "text": [
      "Best betaalde studiegebieden:                                    field_of_study  price\n",
      "2    Ambacht, laboratorium en gezondheidstechniek   1071\n",
      "26   R&D, wetenschap & wetenschappelijk onderzoek    918\n",
      "25                    Productie, bouw & ambachten    918\n",
      "8                             Educatie & Training    765\n",
      "27                                          Sport    765\n",
      "15          Informatie en communicatietechnologie    612\n",
      "35                                Zorg en welzijn    612\n",
      "18              Marketing, reclame & communicatie    612\n",
      "6                                        Economie    612\n",
      "13                             Horeca en bakkerij    506\n",
      "7                       Economie en administratie    459\n",
      "19                             Media & informatie    459\n",
      "12                              Horeca & toerisme    459\n",
      "4                                   Bouw en infra    459\n",
      "3     Banken, financiële diensten & verzekeringen    459\n",
      "9                          Engineering & techniek    459\n",
      "29                          Toerisme en recreatie    387\n",
      "24                        Personeel & organisatie    306\n",
      "28                    Techniek en procesindustrie    306\n",
      "22                         Ontwerp & architectuur    306\n",
      "30            Transport, scheepvaart en logistiek    306\n",
      "23                              Overheidsdiensten    306\n",
      "16                     Juridische dienstverlening    306\n",
      "21                       Mobiliteit en voertuigen    306\n",
      "20                            Media en vormgeving    306\n",
      "1                             Algemeen management    306\n",
      "34                Voedsel, natuur en leefomgeving    306\n",
      "11   Gezondheidszorg, sociale & medische diensten    306\n",
      "10          Financiën, administratie & accounting    306\n",
      "5                           Cultuur, kunst & taal    306\n",
      "32                       Veiligheid & beveiliging    153\n",
      "33                            Veiligheid en sport    153\n",
      "0                       Afbouw, hout en onderhoud    153\n",
      "31                          Uiterlijke verzorging    153\n",
      "17               Land, zee, milieu & natuurbehoud    153\n",
      "14                          IT & Telecommunicatie    153\n",
      "36  ﻿Administratieve ondersteuning & secretariaat    153\n"
     ]
    }
   ],
   "source": [
    "#finding highest number of vacancy in a company\n",
    "most_vacancy= vacancies.groupby(['field_of_study'])['price'].sum()\n",
    "most_vacancy=most_vacancy.reset_index(name='price')\n",
    "most_vacancy=most_vacancy.sort_values(['price'],ascending=False)\n",
    "print('Best betaalde studiegebieden:', most_vacancy)\n",
    "\n",
    "# print(most_vacancy)\n",
    "\n",
    "# pareto_df=most_vacancy\n",
    "# most_vacancy=most_vacancy.head(10)\n",
    "# print('Top 10 bedrijven met de meeste vacatures',most_vacancy)\n",
    "\n",
    "# # Plot graph for top most vacancy\n",
    "# fig, ax = plt.subplots(figsize = (10,6))\n",
    "# ax=seaborn.barplot(x=\"company\", y=\"field_of_study\", data=most_vacancy)    \n",
    "# ax.set_xticklabels(most_vacancy['company'],rotation=90)  \n",
    "# ax.set_xlabel('BEDRIJVEN MET DE MEESTE VACATURES',fontsize=16, color='red')\n",
    "# ax.set_ylabel('# AANTAL VACATURES',fontsize=16,color='red') "
   ]
  },
  {
   "cell_type": "code",
   "execution_count": null,
   "metadata": {},
   "outputs": [],
   "source": []
  }
 ],
 "metadata": {
  "kernelspec": {
   "display_name": "Python 3",
   "language": "python",
   "name": "python3"
  },
  "language_info": {
   "codemirror_mode": {
    "name": "ipython",
    "version": 3
   },
   "file_extension": ".py",
   "mimetype": "text/x-python",
   "name": "python",
   "nbconvert_exporter": "python",
   "pygments_lexer": "ipython3",
   "version": "3.7.3"
  }
 },
 "nbformat": 4,
 "nbformat_minor": 2
}
